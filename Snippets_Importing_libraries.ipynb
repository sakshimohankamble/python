{
  "nbformat": 4,
  "nbformat_minor": 0,
  "metadata": {
    "colab": {
      "name": "Snippets: Importing libraries",
      "provenance": [],
      "collapsed_sections": [],
      "include_colab_link": true
    },
    "kernelspec": {
      "display_name": "Python 3",
      "name": "python3"
    }
  },
  "cells": [
    {
      "cell_type": "markdown",
      "metadata": {
        "id": "view-in-github",
        "colab_type": "text"
      },
      "source": [
        "<a href=\"https://colab.research.google.com/github/sakshimohankamble/guessgame/blob/main/Snippets_Importing_libraries.ipynb\" target=\"_parent\"><img src=\"https://colab.research.google.com/assets/colab-badge.svg\" alt=\"Open In Colab\"/></a>"
      ]
    },
    {
      "cell_type": "markdown",
      "metadata": {
        "id": "kDn_lVxg3Z2G"
      },
      "source": [
        "# Importing a library that is not in Colaboratory\n",
        "\n",
        "To import a library that's not in Colaboratory by default, you can use `!pip install` or `!apt-get install`."
      ]
    },
    {
      "cell_type": "code",
      "metadata": {
        "id": "GQ18Kd5F3uKe"
      },
      "source": [
        "!pip install matplotlib-venn"
      ],
      "execution_count": null,
      "outputs": []
    },
    {
      "cell_type": "code",
      "metadata": {
        "id": "__3eqm3q3sr-"
      },
      "source": [
        "!apt-get -qq install -y libfluidsynth1"
      ],
      "execution_count": null,
      "outputs": []
    },
    {
      "cell_type": "markdown",
      "metadata": {
        "id": "apoRbfWsRZ7S"
      },
      "source": [
        "# Install 7zip reader [libarchive](https://pypi.python.org/pypi/libarchive) "
      ]
    },
    {
      "cell_type": "code",
      "metadata": {
        "id": "d_j7nNbKRmhx"
      },
      "source": [
        "# https://pypi.python.org/pypi/libarchive\n",
        "!apt-get -qq install -y libarchive-dev && pip install -U libarchive\n",
        "import libarchive"
      ],
      "execution_count": null,
      "outputs": []
    },
    {
      "cell_type": "markdown",
      "metadata": {
        "id": "PeaSX9KXR58J"
      },
      "source": [
        "# Install GraphViz & [PyDot](https://pypi.python.org/pypi/pydot)"
      ]
    },
    {
      "cell_type": "code",
      "metadata": {
        "id": "w9llCG2wSRDx"
      },
      "source": [
        "# https://pypi.python.org/pypi/pydot\n",
        "!apt-get -qq install -y graphviz && pip install pydot\n",
        "import pydot"
      ],
      "execution_count": null,
      "outputs": []
    },
    {
      "cell_type": "markdown",
      "metadata": {
        "id": "Tlh1MKxGrKFO"
      },
      "source": [
        "# Install [cartopy](http://scitools.org.uk/cartopy/docs/latest/)"
      ]
    },
    {
      "cell_type": "code",
      "metadata": {
        "colab": {
          "base_uri": "https://localhost:8080/"
        },
        "id": "Zq68DSY2rP2W",
        "outputId": "5bc0a743-1c7c-4492-8204-b55ec50fbe3e"
      },
      "source": [
        "!pip install cartopy\n",
        "import cartopy"
      ],
      "execution_count": 1,
      "outputs": [
        {
          "output_type": "stream",
          "text": [
            "Collecting cartopy\n",
            "  Downloading Cartopy-0.19.0.post1.tar.gz (12.1 MB)\n",
            "\u001b[K     |████████████████████████████████| 12.1 MB 132 kB/s \n",
            "\u001b[?25h  Installing build dependencies ... \u001b[?25l\u001b[?25hdone\n",
            "  Getting requirements to build wheel ... \u001b[?25l\u001b[?25hdone\n",
            "    Preparing wheel metadata ... \u001b[?25l\u001b[?25hdone\n",
            "Requirement already satisfied: numpy>=1.13.3 in /usr/local/lib/python3.7/dist-packages (from cartopy) (1.19.5)\n",
            "Collecting pyshp>=2\n",
            "  Downloading pyshp-2.1.3.tar.gz (219 kB)\n",
            "\u001b[K     |████████████████████████████████| 219 kB 43.9 MB/s \n",
            "\u001b[?25hRequirement already satisfied: shapely>=1.5.6 in /usr/local/lib/python3.7/dist-packages (from cartopy) (1.7.1)\n",
            "Building wheels for collected packages: cartopy, pyshp\n",
            "  Building wheel for cartopy (PEP 517) ... \u001b[?25l\u001b[?25hdone\n",
            "  Created wheel for cartopy: filename=Cartopy-0.19.0.post1-cp37-cp37m-linux_x86_64.whl size=12516284 sha256=3b60dca22efbaa109560c6913ab3f66d986f558e348cc6dd7241e9c8bcebf34c\n",
            "  Stored in directory: /root/.cache/pip/wheels/98/01/f7/bd10aeb96fe4b518cde5f7c4f5e12c7202f85b7353a5017847\n",
            "  Building wheel for pyshp (setup.py) ... \u001b[?25l\u001b[?25hdone\n",
            "  Created wheel for pyshp: filename=pyshp-2.1.3-py3-none-any.whl size=37324 sha256=63a28d20338cc862610eeee6051bb3df18e9028442937c2737402609af3ad71e\n",
            "  Stored in directory: /root/.cache/pip/wheels/43/f8/87/53c8cd41545ba20e536ea29a8fcb5431b5f477ca50d5dffbbe\n",
            "Successfully built cartopy pyshp\n",
            "Installing collected packages: pyshp, cartopy\n",
            "Successfully installed cartopy-0.19.0.post1 pyshp-2.1.3\n"
          ],
          "name": "stdout"
        }
      ]
    },
    {
      "cell_type": "code",
      "metadata": {
        "id": "En-V3XiudFCw"
      },
      "source": [
        "import random \n",
        "# library that we use in order to choose \n",
        "# on random words from a list of words \n",
        "\n",
        "name = input(\"What is your name? \") \n",
        "# Here the user is asked to enter the name first \n",
        "\n",
        "print(\"Good Luck ! \", name) \n",
        "\n",
        "words = ['rainbow', 'computer', 'science', 'programming', \n",
        "\t\t'python', 'mathematics', 'player', 'condition', \n",
        "\t\t'reverse', 'water', 'board', 'geeks'] \n",
        "\n",
        "# Function will choose one random \n",
        "# word from this list of words \n",
        "word = random.choice(words) \n",
        "\n",
        "\n",
        "print(\"Guess the characters\") \n",
        "\n",
        "guesses = '' \n",
        "\n",
        "# any number of turns can be used here \n",
        "turns = 12\n",
        "\n",
        "\n",
        "while turns > 0: \n",
        "\t\n",
        "\t# counts the number of times a user fails \n",
        "\tfailed = 0\n",
        "\t\n",
        "\t# all characters from the input \n",
        "\t# word taking one at a time. \n",
        "\tfor char in word: \n",
        "\t\t\n",
        "\t\t# comparing that character with \n",
        "\t\t# the character in guesses \n",
        "\t\tif char in guesses: \n",
        "\t\t\tprint(char) \n",
        "\t\t\t\n",
        "\t\telse: \n",
        "\t\t\tprint(\"_\") \n",
        "\t\t\t\n",
        "\t\t\t# for every failure 1 will be \n",
        "\t\t\t# incremented in failure \n",
        "\t\t\tfailed += 1\n",
        "\t\t\t\n",
        "\n",
        "\tif failed == 0: \n",
        "\t\t# user will win the game if failure is 0 \n",
        "\t\t# and 'You Win' will be given as output \n",
        "\t\tprint(\"You Win\") \n",
        "\t\t\n",
        "\t\t# this print the correct word \n",
        "\t\tprint(\"The word is: \", word) \n",
        "\t\tbreak\n",
        "\t\n",
        "\t# if user has input the wrong alphabet then \n",
        "\t# it will ask user to enter another alphabet \n",
        "\tguess = input(\"guess a character:\") \n",
        "\t\n",
        "\t# every input character will be stored in guesses \n",
        "\tguesses += guess \n",
        "\t\n",
        "\t# check input with the character in word \n",
        "\tif guess not in word: \n",
        "\t\t\n",
        "\t\tturns -= 1\n",
        "\t\t\n",
        "\t\t# if the character doesn’t match the word \n",
        "\t\t# then “Wrong” will be given as output \n",
        "\t\tprint(\"Wrong\") \n",
        "\t\t\n",
        "\t\t# this will print the number of \n",
        "\t\t# turns left for the user \n",
        "\t\tprint(\"You have\", + turns, 'more guesses') \n",
        "\t\t\n",
        "\t\t\n",
        "\t\tif turns == 0: \n",
        "\t\t\tprint(\"You Loose\") "
      ],
      "execution_count": null,
      "outputs": []
    }
  ]
}